{
 "cells": [
  {
   "cell_type": "code",
   "execution_count": 1,
   "metadata": {},
   "outputs": [],
   "source": [
    "from sympy import *\n",
    "x,y,z,t,a = symbols('x, y, z, t, a')\n",
    "init_printing()"
   ]
  },
  {
   "cell_type": "code",
   "execution_count": null,
   "metadata": {},
   "outputs": [],
   "source": [
    "'''\n",
    "Thomas Calculus 9th Edition Solutions\n",
    "Ex # 2.5\n",
    "'''"
   ]
  },
  {
   "cell_type": "code",
   "execution_count": 3,
   "metadata": {},
   "outputs": [
    {
     "data": {
      "image/png": "[encoded data removed]",
      "text/latex": [
       "$$- 7.0 \\left(\\cos^{2}{\\left (7 t \\right )} + 1\\right)^{2} \\sin{\\left (7 t \\right )} \\cos{\\left (7 t \\right )}$$"
      ],
      "text/plain": [
       "                    2                  \n",
       "     ⎛   2         ⎞                   \n",
       "-7.0⋅⎝cos (7⋅t) + 1⎠ ⋅sin(7⋅t)⋅cos(7⋅t)"
      ]
     },
     "execution_count": 3,
     "metadata": {},
     "output_type": "execute_result"
    }
   ],
   "source": [
    "# Q:46\n",
    "diff((1/6)*(1+(cos(7*t)**2))**3,t)"
   ]
  },
  {
   "cell_type": "code",
   "execution_count": 6,
   "metadata": {},
   "outputs": [
    {
     "data": {
      "image/png": "[encoded data removed]",
      "text/latex": [
       "$$- \\frac{t \\sin{\\left (t^{2} \\right )}}{\\sqrt{\\cos{\\left (t^{2} \\right )} + 1}}$$"
      ],
      "text/plain": [
       "        ⎛ 2⎞    \n",
       "  -t⋅sin⎝t ⎠    \n",
       "────────────────\n",
       "   _____________\n",
       "  ╱    ⎛ 2⎞     \n",
       "╲╱  cos⎝t ⎠ + 1 "
      ]
     },
     "execution_count": 6,
     "metadata": {},
     "output_type": "execute_result"
    }
   ],
   "source": [
    "# Q:47\n",
    "diff(sqrt(1+cos(t**2)),t)"
   ]
  },
  {
   "cell_type": "code",
   "execution_count": 7,
   "metadata": {},
   "outputs": [
    {
     "data": {
      "image/png": "[encoded data removed]",
      "text/latex": [
       "$$\\frac{\\cos{\\left (\\sqrt{\\sqrt{t} + 1} \\right )}}{\\sqrt{t} \\sqrt{\\sqrt{t} + 1}}$$"
      ],
      "text/plain": [
       "   ⎛  ________⎞\n",
       "cos⎝╲╱ √t + 1 ⎠\n",
       "───────────────\n",
       "      ________ \n",
       " √t⋅╲╱ √t + 1  "
      ]
     },
     "execution_count": 7,
     "metadata": {},
     "output_type": "execute_result"
    }
   ],
   "source": [
    "# Q:48\n",
    "diff(4*sin(sqrt(1+sqrt(t))),t)"
   ]
  },
  {
   "cell_type": "code",
   "execution_count": 12,
   "metadata": {},
   "outputs": [
    {
     "data": {
      "image/png": "[encoded data removed]",
      "text/latex": [
       "$$\\frac{6 \\left(1 + \\frac{1}{x}\\right) \\left(1 + \\frac{2}{x}\\right)}{x^{3}}$$"
      ],
      "text/plain": [
       "  ⎛    1⎞ ⎛    2⎞\n",
       "6⋅⎜1 + ─⎟⋅⎜1 + ─⎟\n",
       "  ⎝    x⎠ ⎝    x⎠\n",
       "─────────────────\n",
       "         3       \n",
       "        x        "
      ]
     },
     "execution_count": 12,
     "metadata": {},
     "output_type": "execute_result"
    }
   ],
   "source": [
    "# Q:49\n",
    "diff((1 + 1/x)**3,x,2)"
   ]
  },
  {
   "cell_type": "code",
   "execution_count": 49,
   "metadata": {},
   "outputs": [
    {
     "data": {
      "image/png": "[encoded data removed]",
      "text/latex": [
       "$$\\frac{- 3 x^{\\frac{3}{2}} + x}{4 x^{\\frac{5}{2}} \\left(\\sqrt{x} - 1\\right)^{3}}$$"
      ],
      "text/plain": [
       "       3/2      \n",
       "  - 3⋅x    + x  \n",
       "────────────────\n",
       "   5/2         3\n",
       "4⋅x   ⋅(√x - 1) "
      ]
     },
     "execution_count": 49,
     "metadata": {},
     "output_type": "execute_result"
    }
   ],
   "source": [
    "# Q:50\n",
    "y=diff((1-sqrt(x))**-1,x,2)\n",
    "factor(y)"
   ]
  },
  {
   "cell_type": "code",
   "execution_count": 54,
   "metadata": {},
   "outputs": [
    {
     "data": {
      "image/png": "[encoded data removed]",
      "text/latex": [
       "$$2.0 \\left(\\cot^{2}{\\left (3 x - 1 \\right )} + 1\\right) \\cot{\\left (3 x - 1 \\right )}$$"
      ],
      "text/plain": [
       "    ⎛   2             ⎞             \n",
       "2.0⋅⎝cot (3⋅x - 1) + 1⎠⋅cot(3⋅x - 1)"
      ]
     },
     "execution_count": 54,
     "metadata": {},
     "output_type": "execute_result"
    }
   ],
   "source": [
    "# Q:51\n",
    "diff((1/9)*cot(3*x-1),x,2)"
   ]
  },
  {
   "cell_type": "code",
   "execution_count": 55,
   "metadata": {},
   "outputs": [
    {
     "data": {
      "image/png": "[encoded data removed]",
      "text/latex": [
       "$$2 \\left(\\tan^{2}{\\left (\\frac{x}{3} \\right )} + 1\\right) \\tan{\\left (\\frac{x}{3} \\right )}$$"
      ],
      "text/plain": [
       "  ⎛   2⎛x⎞    ⎞    ⎛x⎞\n",
       "2⋅⎜tan ⎜─⎟ + 1⎟⋅tan⎜─⎟\n",
       "  ⎝    ⎝3⎠    ⎠    ⎝3⎠"
      ]
     },
     "execution_count": 55,
     "metadata": {},
     "output_type": "execute_result"
    }
   ],
   "source": [
    "# Q:52\n",
    "diff(9*tan(x/3),x,2)"
   ]
  },
  {
   "cell_type": "code",
   "execution_count": 56,
   "metadata": {},
   "outputs": [
    {
     "data": {
      "image/png": "[encoded data removed]",
      "text/latex": [
       "$$\\left(- \\frac{t}{2 \\left(t + 1\\right)^{\\frac{3}{2}}} + \\frac{1}{\\sqrt{t + 1}}\\right) \\cos{\\left (\\frac{t}{\\sqrt{t + 1}} \\right )}$$"
      ],
      "text/plain": [
       "⎛       t             1    ⎞    ⎛    t    ⎞\n",
       "⎜- ──────────── + ─────────⎟⋅cos⎜─────────⎟\n",
       "⎜           3/2     _______⎟    ⎜  _______⎟\n",
       "⎝  2⋅(t + 1)      ╲╱ t + 1 ⎠    ⎝╲╱ t + 1 ⎠"
      ]
     },
     "execution_count": 56,
     "metadata": {},
     "output_type": "execute_result"
    }
   ],
   "source": [
    "# Q:37\n",
    "diff(sin(t/(sqrt(t+1))),t)"
   ]
  },
  {
   "cell_type": "code",
   "execution_count": 57,
   "metadata": {},
   "outputs": [
    {
     "data": {
      "image/png": "[encoded data removed]",
      "text/latex": [
       "$$\\left(\\frac{\\cos{\\left (t \\right )}}{t} - \\frac{\\sin{\\left (t \\right )}}{t^{2}}\\right) \\left(- \\cot^{2}{\\left (\\frac{\\sin{\\left (t \\right )}}{t} \\right )} - 1\\right)$$"
      ],
      "text/plain": [
       "⎛cos(t)   sin(t)⎞ ⎛     2⎛sin(t)⎞    ⎞\n",
       "⎜────── - ──────⎟⋅⎜- cot ⎜──────⎟ - 1⎟\n",
       "⎜  t         2  ⎟ ⎝      ⎝  t   ⎠    ⎠\n",
       "⎝           t   ⎠                     "
      ]
     },
     "execution_count": 57,
     "metadata": {},
     "output_type": "execute_result"
    }
   ],
   "source": [
    "# Q:38\n",
    "diff(cot(sin(t)/t),t)"
   ]
  },
  {
   "cell_type": "code",
   "execution_count": 59,
   "metadata": {},
   "outputs": [
    {
     "data": {
      "image/png": "[encoded data removed]",
      "text/latex": [
       "$$2 \\pi \\sin{\\left (\\pi t - 2 \\right )} \\cos{\\left (\\pi t - 2 \\right )}$$"
      ],
      "text/plain": [
       "2⋅π⋅sin(π⋅t - 2)⋅cos(π⋅t - 2)"
      ]
     },
     "execution_count": 59,
     "metadata": {},
     "output_type": "execute_result"
    }
   ],
   "source": [
    "# Q:39\n",
    "diff(sin(pi*t - 2)**2,t)"
   ]
  },
  {
   "cell_type": "code",
   "execution_count": 60,
   "metadata": {},
   "outputs": [
    {
     "data": {
      "image/png": "[encoded data removed]",
      "text/latex": [
       "$$2 \\pi \\tan{\\left (\\pi t \\right )} \\sec^{2}{\\left (\\pi t \\right )}$$"
      ],
      "text/plain": [
       "                2     \n",
       "2⋅π⋅tan(π⋅t)⋅sec (π⋅t)"
      ]
     },
     "execution_count": 60,
     "metadata": {},
     "output_type": "execute_result"
    }
   ],
   "source": [
    "# Q:40\n",
    "diff(sec(pi*t)**2,t)"
   ]
  },
  {
   "cell_type": "code",
   "execution_count": 61,
   "metadata": {},
   "outputs": [
    {
     "data": {
      "image/png": "[encoded data removed]",
      "text/latex": [
       "$$\\frac{8 \\sin{\\left (2 t \\right )}}{\\left(\\cos{\\left (2 t \\right )} + 1\\right)^{5}}$$"
      ],
      "text/plain": [
       "   8⋅sin(2⋅t)  \n",
       "───────────────\n",
       "              5\n",
       "(cos(2⋅t) + 1) "
      ]
     },
     "execution_count": 61,
     "metadata": {},
     "output_type": "execute_result"
    }
   ],
   "source": [
    "# Q:41\n",
    "diff((1+cos(2*t))**-4,t)"
   ]
  },
  {
   "cell_type": "code",
   "execution_count": 62,
   "metadata": {},
   "outputs": [
    {
     "data": {
      "image/png": "[encoded data removed]",
      "text/latex": [
       "$$\\frac{\\cot^{2}{\\left (\\frac{t}{2} \\right )} + 1}{\\left(\\cot{\\left (\\frac{t}{2} \\right )} + 1\\right)^{3}}$$"
      ],
      "text/plain": [
       "    2⎛t⎞     \n",
       " cot ⎜─⎟ + 1 \n",
       "     ⎝2⎠     \n",
       "─────────────\n",
       "            3\n",
       "⎛   ⎛t⎞    ⎞ \n",
       "⎜cot⎜─⎟ + 1⎟ \n",
       "⎝   ⎝2⎠    ⎠ "
      ]
     },
     "execution_count": 62,
     "metadata": {},
     "output_type": "execute_result"
    }
   ],
   "source": [
    "# Q:42\n",
    "diff((1+cot(t/2))**-2,t)"
   ]
  },
  {
   "cell_type": "code",
   "execution_count": 63,
   "metadata": {},
   "outputs": [
    {
     "data": {
      "image/png": "[encoded data removed]",
      "text/latex": [
       "$$- 2 \\sin{\\left (2 t - 5 \\right )} \\cos{\\left (\\cos{\\left (2 t - 5 \\right )} \\right )}$$"
      ],
      "text/plain": [
       "-2⋅sin(2⋅t - 5)⋅cos(cos(2⋅t - 5))"
      ]
     },
     "execution_count": 63,
     "metadata": {},
     "output_type": "execute_result"
    }
   ],
   "source": [
    "#Q:43\n",
    "diff(sin(cos(2*t-5)),t)"
   ]
  },
  {
   "cell_type": "code",
   "execution_count": 3,
   "metadata": {},
   "outputs": [
    {
     "data": {
      "image/png": "[encoded data removed]",
      "text/latex": [
       "$$- \\pi \\sin{\\left (\\pi t \\right )} + \\frac{3 \\pi \\cos{\\left (\\frac{3 \\pi t}{2} \\right )}}{2}$$"
      ],
      "text/plain": [
       "                     ⎛3⋅π⋅t⎞\n",
       "              3⋅π⋅cos⎜─────⎟\n",
       "                     ⎝  2  ⎠\n",
       "-π⋅sin(π⋅t) + ──────────────\n",
       "                    2       "
      ]
     },
     "execution_count": 3,
     "metadata": {},
     "output_type": "execute_result"
    }
   ],
   "source": [
    "# Q:22\n",
    "diff(sin(3*pi*t/2)+cos(3*pi*t/3),t)"
   ]
  },
  {
   "cell_type": "code",
   "execution_count": 11,
   "metadata": {},
   "outputs": [
    {
     "data": {
      "image/png": "[encoded data removed]",
      "text/latex": [
       "$$\\frac{\\cot^{2}{\\left (x \\right )} + 1}{\\cot^{2}{\\left (x \\right )}} - \\cot{\\left (x \\right )} \\csc{\\left (x \\right )}$$"
      ],
      "text/plain": [
       "   2                       \n",
       "cot (x) + 1                \n",
       "─────────── - cot(x)⋅csc(x)\n",
       "     2                     \n",
       "  cot (x)                  "
      ]
     },
     "execution_count": 11,
     "metadata": {},
     "output_type": "execute_result"
    }
   ],
   "source": [
    "# Q:23\n",
    "diff((csc(x)+cot(x)**-1),x)"
   ]
  },
  {
   "cell_type": "code",
   "execution_count": 12,
   "metadata": {},
   "outputs": [
    {
     "data": {
      "image/png": "[encoded data removed]",
      "text/latex": [
       "$$- \\frac{- \\tan^{2}{\\left (x \\right )} - \\tan{\\left (x \\right )} \\sec{\\left (x \\right )} - 1}{\\left(\\tan{\\left (x \\right )} + \\sec{\\left (x \\right )}\\right)^{2}}$$"
      ],
      "text/plain": [
       " ⎛     2                       ⎞ \n",
       "-⎝- tan (x) - tan(x)⋅sec(x) - 1⎠ \n",
       "─────────────────────────────────\n",
       "                         2       \n",
       "        (tan(x) + sec(x))        "
      ]
     },
     "execution_count": 12,
     "metadata": {},
     "output_type": "execute_result"
    }
   ],
   "source": [
    "# Q:24\n",
    "diff(-(sec(x)+tan(x))**-1,x)"
   ]
  },
  {
   "cell_type": "code",
   "execution_count": 15,
   "metadata": {},
   "outputs": [
    {
     "data": {
      "image/png": "[encoded data removed]",
      "text/latex": [
       "$$4 x^{2} \\sin^{3}{\\left (x \\right )} \\cos{\\left (x \\right )} + 2 x \\sin^{4}{\\left (x \\right )} + \\frac{2 x \\sin{\\left (x \\right )}}{\\cos^{3}{\\left (x \\right )}} + \\frac{1}{\\cos^{2}{\\left (x \\right )}}$$"
      ],
      "text/plain": [
       "   2    3                    4      2⋅x⋅sin(x)      1   \n",
       "4⋅x ⋅sin (x)⋅cos(x) + 2⋅x⋅sin (x) + ────────── + ───────\n",
       "                                        3           2   \n",
       "                                     cos (x)     cos (x)"
      ]
     },
     "execution_count": 15,
     "metadata": {},
     "output_type": "execute_result"
    }
   ],
   "source": [
    "# Q:25\n",
    "y=diff(x**2 *sin(x)**4 + x*cos(x)**-2,x)\n",
    "y"
   ]
  },
  {
   "cell_type": "code",
   "execution_count": 2,
   "metadata": {},
   "outputs": [
    {
     "data": {
      "image/png": "[encoded data removed]",
      "text/latex": [
       "$$x \\sin{\\left (x \\right )} \\cos^{2}{\\left (x \\right )} - \\frac{\\cos^{3}{\\left (x \\right )}}{3} - \\frac{5 \\cos{\\left (x \\right )}}{x \\sin^{6}{\\left (x \\right )}} - \\frac{1}{x^{2} \\sin^{5}{\\left (x \\right )}}$$"
      ],
      "text/plain": [
       "                      3                            \n",
       "            2      cos (x)    5⋅cos(x)       1     \n",
       "x⋅sin(x)⋅cos (x) - ─────── - ───────── - ──────────\n",
       "                      3           6       2    5   \n",
       "                             x⋅sin (x)   x ⋅sin (x)"
      ]
     },
     "execution_count": 2,
     "metadata": {},
     "output_type": "execute_result"
    }
   ],
   "source": [
    "# Q:26\n",
    "diff((1/x)*(sin(x)**-5) - (x/3)*(cos(x))**3,x)"
   ]
  },
  {
   "cell_type": "code",
   "execution_count": 8,
   "metadata": {},
   "outputs": [
    {
     "data": {
      "image/png": "[encoded data removed]",
      "text/latex": [
       "$$\\left(3 x - 2\\right)^{6} - \\frac{1}{x^{3} \\left(4 - \\frac{1}{2 x^{2}}\\right)^{2}}$$"
      ],
      "text/plain": [
       "         6         1       \n",
       "(3⋅x - 2)  - ──────────────\n",
       "                          2\n",
       "              3 ⎛     1  ⎞ \n",
       "             x ⋅⎜4 - ────⎟ \n",
       "                ⎜       2⎟ \n",
       "                ⎝    2⋅x ⎠ "
      ]
     },
     "execution_count": 8,
     "metadata": {},
     "output_type": "execute_result"
    }
   ],
   "source": [
    "# Q:27\n",
    "diff((3*x-2)**7 /21 + (4- (1/(2*x**2)))**-1,x)"
   ]
  },
  {
   "cell_type": "code",
   "execution_count": 11,
   "metadata": {},
   "outputs": [
    {
     "data": {
      "image/png": "[encoded data removed]",
      "text/latex": [
       "$$\\frac{2 x^{5} \\left(x - 5\\right)^{5} \\left(x \\left(- 2 x + 5\\right) \\left(x - 5\\right) + 3 \\left(2 x - 5\\right)^{3}\\right)}{\\left(2 x - 5\\right)^{3}}$$"
      ],
      "text/plain": [
       "   5        5 ⎛                                  3⎞\n",
       "2⋅x ⋅(x - 5) ⋅⎝x⋅(-2⋅x + 5)⋅(x - 5) + 3⋅(2⋅x - 5) ⎠\n",
       "───────────────────────────────────────────────────\n",
       "                              3                    \n",
       "                     (2⋅x - 5)                     "
      ]
     },
     "execution_count": 11,
     "metadata": {},
     "output_type": "execute_result"
    }
   ],
   "source": [
    "# Q:30\n",
    "y = diff((2*x-5)**-1 * (x**2 - 5*x)**6,x)\n",
    "simplify(y)"
   ]
  },
  {
   "cell_type": "code",
   "execution_count": 18,
   "metadata": {},
   "outputs": [
    {
     "data": {
      "image/png": "[encoded data removed]",
      "text/latex": [
       "$$\\sqrt{x} \\left(\\tan^{2}{\\left (2 \\sqrt{x} \\right )} + 1\\right) + \\tan{\\left (2 \\sqrt{x} \\right )}$$"
      ],
      "text/plain": [
       "   ⎛   2          ⎞            \n",
       "√x⋅⎝tan (2⋅√x) + 1⎠ + tan(2⋅√x)"
      ]
     },
     "execution_count": 18,
     "metadata": {},
     "output_type": "execute_result"
    }
   ],
   "source": [
    "# Q:31\n",
    "diff(x*tan(2*sqrt(x)) + 7,x)"
   ]
  },
  {
   "cell_type": "code",
   "execution_count": 19,
   "metadata": {},
   "outputs": [
    {
     "data": {
      "image/png": "[encoded data removed]",
      "text/latex": [
       "$$2 x \\sec{\\left (\\frac{1}{x} \\right )} - \\tan{\\left (\\frac{1}{x} \\right )} \\sec{\\left (\\frac{1}{x} \\right )}$$"
      ],
      "text/plain": [
       "       ⎛1⎞      ⎛1⎞    ⎛1⎞\n",
       "2⋅x⋅sec⎜─⎟ - tan⎜─⎟⋅sec⎜─⎟\n",
       "       ⎝x⎠      ⎝x⎠    ⎝x⎠"
      ]
     },
     "execution_count": 19,
     "metadata": {},
     "output_type": "execute_result"
    }
   ],
   "source": [
    "# Q:32\n",
    "diff(x**2 * sec(1/x),x)"
   ]
  },
  {
   "cell_type": "code",
   "execution_count": 2,
   "metadata": {},
   "outputs": [
    {
     "data": {
      "image/png": "[encoded data removed]",
      "text/latex": [
       "$$2 x \\cos{\\left (2 x \\right )} \\cos{\\left (x^{2} \\right )} - 2 \\sin{\\left (2 x \\right )} \\sin{\\left (x^{2} \\right )}$$"
      ],
      "text/plain": [
       "                ⎛ 2⎞                 ⎛ 2⎞\n",
       "2⋅x⋅cos(2⋅x)⋅cos⎝x ⎠ - 2⋅sin(2⋅x)⋅sin⎝x ⎠"
      ]
     },
     "execution_count": 2,
     "metadata": {},
     "output_type": "execute_result"
    }
   ],
   "source": [
    "# Q:35\n",
    "diff(sin(x**2)*cos(2*x),x)"
   ]
  },
  {
   "cell_type": "code",
   "execution_count": 6,
   "metadata": {
    "scrolled": true
   },
   "outputs": [
    {
     "data": {
      "image/png": "[encoded data removed]",
      "text/latex": [
       "$$- \\frac{\\left(\\tan^{2}{\\left (\\frac{1}{x} \\right )} + 1\\right) \\sec{\\left (\\sqrt{x} \\right )}}{x^{2}} + \\frac{\\tan{\\left (\\frac{1}{x} \\right )} \\tan{\\left (\\sqrt{x} \\right )} \\sec{\\left (\\sqrt{x} \\right )}}{2 \\sqrt{x}}$$"
      ],
      "text/plain": [
       "  ⎛   2⎛1⎞    ⎞              ⎛1⎞                \n",
       "  ⎜tan ⎜─⎟ + 1⎟⋅sec(√x)   tan⎜─⎟⋅tan(√x)⋅sec(√x)\n",
       "  ⎝    ⎝x⎠    ⎠              ⎝x⎠                \n",
       "- ───────────────────── + ──────────────────────\n",
       "             2                     2⋅√x         \n",
       "            x                                   "
      ]
     },
     "execution_count": 6,
     "metadata": {},
     "output_type": "execute_result"
    }
   ],
   "source": [
    "# Q:36\n",
    "diff((sec(sqrt(x))*tan(1/x)),x)"
   ]
  },
  {
   "cell_type": "code",
   "execution_count": 7,
   "metadata": {},
   "outputs": [
    {
     "data": {
      "text/plain": [
       "'\\nEx # 2.6\\n'"
      ]
     },
     "execution_count": 7,
     "metadata": {},
     "output_type": "execute_result"
    }
   ],
   "source": [
    "'''\n",
    "Ex # 2.6\n",
    "'''"
   ]
  },
  {
   "cell_type": "code",
   "execution_count": 10,
   "metadata": {},
   "outputs": [
    {
     "data": {
      "image/png": "[encoded data removed]",
      "text/latex": [
       "$$2 x y + y^{2}$$"
      ],
      "text/plain": [
       "         2\n",
       "2⋅x⋅y + y "
      ]
     },
     "execution_count": 10,
     "metadata": {},
     "output_type": "execute_result"
    }
   ],
   "source": [
    "# Q:19\n",
    "diff(x**2 * y + x*y**2 - 6,x)"
   ]
  },
  {
   "cell_type": "code",
   "execution_count": null,
   "metadata": {},
   "outputs": [],
   "source": [
    "'''\n",
    "Thomas Calculus 14th Edition\n",
    "Ex#4.4\n",
    "'''"
   ]
  },
  {
   "cell_type": "code",
   "execution_count": 12,
   "metadata": {},
   "outputs": [
    {
     "name": "stdout",
     "output_type": "stream",
     "text": [
      "x**3/3 - x**2/2 - 2*x + 0.333333333333333 \n",
      " x**2 - x - 2 \n",
      " 2*x - 1\n"
     ]
    }
   ],
   "source": [
    "# Q:1\n",
    "y = x**3 /3 - x**2 /2 - 2*x + 1/3\n",
    "yp = diff(y,x)\n",
    "ypp = diff(yp,x)\n",
    "print(y,'\\n',yp,'\\n',ypp)"
   ]
  },
  {
   "cell_type": "code",
   "execution_count": null,
   "metadata": {},
   "outputs": [],
   "source": [
    "# Ex 5.1"
   ]
  },
  {
   "cell_type": "code",
   "execution_count": 5,
   "metadata": {},
   "outputs": [
    {
     "data": {
      "image/png": "[encoded data removed]",
      "text/latex": [
       "$$18$$"
      ],
      "text/plain": [
       "18"
      ]
     },
     "execution_count": 5,
     "metadata": {},
     "output_type": "execute_result"
    }
   ],
   "source": [
    "integrate(2*y**2 - 3, (y, 0, 3))\n",
    "integrate(3-sqrt(x/2),(x, 0, 18))"
   ]
  },
  {
   "cell_type": "code",
   "execution_count": 7,
   "metadata": {},
   "outputs": [
    {
     "data": {
      "image/png": "[encoded data removed]",
      "text/latex": [
       "$$\\frac{243}{8}$$"
      ],
      "text/plain": [
       "243/8"
      ]
     },
     "execution_count": 7,
     "metadata": {},
     "output_type": "execute_result"
    }
   ],
   "source": [
    "# Q:53\n",
    "integrate((16+y)/4 - (y**2 - 4)/4 ,(y, -4, 5))"
   ]
  },
  {
   "cell_type": "code",
   "execution_count": 10,
   "metadata": {},
   "outputs": [
    {
     "data": {
      "image/png": "[encoded data removed]",
      "text/latex": [
       "$$\\frac{8}{3}$$"
      ],
      "text/plain": [
       "8/3"
      ]
     },
     "execution_count": 10,
     "metadata": {},
     "output_type": "execute_result"
    }
   ],
   "source": [
    "# Q:55\n",
    "integrate(2-3*y**2 - (-y**2),(y,-1,1))"
   ]
  },
  {
   "cell_type": "code",
   "execution_count": 14,
   "metadata": {},
   "outputs": [
    {
     "data": {
      "image/png": "[encoded data removed]",
      "text/latex": [
       "$$2$$"
      ],
      "text/plain": [
       "2"
      ]
     },
     "execution_count": 14,
     "metadata": {},
     "output_type": "execute_result"
    }
   ],
   "source": [
    "# Q:57\n",
    "integrate(abs(y)*sqrt(1 - y**2) - (y**2 - 1) ,(y,-1,1))+"
   ]
  },
  {
   "cell_type": "code",
   "execution_count": 17,
   "metadata": {},
   "outputs": [
    {
     "data": {
      "image/png": "[encoded data removed]",
      "text/latex": [
       "$$2$$"
      ],
      "text/plain": [
       "2"
      ]
     },
     "execution_count": 17,
     "metadata": {},
     "output_type": "execute_result"
    }
   ],
   "source": [
    "integrate(-y*sqrt(1 - y**2) - (y**2 - 1) ,(y,-1,0))+integrate(y*sqrt(1 - y**2) - (y**2 - 1) ,(y,0,1))"
   ]
  },
  {
   "cell_type": "code",
   "execution_count": 21,
   "metadata": {},
   "outputs": [
    {
     "data": {
      "image/png": "[encoded data removed]",
      "text/latex": [
       "$$\\frac{9}{4}$$"
      ],
      "text/plain": [
       "9/4"
      ]
     },
     "execution_count": 21,
     "metadata": {},
     "output_type": "execute_result"
    }
   ],
   "source": [
    "# Q:58\n",
    "integrate(- (y**3 - y**2) + 2*y,(y, -1,2))"
   ]
  },
  {
   "cell_type": "code",
   "execution_count": 22,
   "metadata": {},
   "outputs": [
    {
     "data": {
      "image/png": "[encoded data removed]",
      "text/latex": [
       "$$\\frac{104}{15}$$"
      ],
      "text/plain": [
       "104\n",
       "───\n",
       " 15"
      ]
     },
     "execution_count": 22,
     "metadata": {},
     "output_type": "execute_result"
    }
   ],
   "source": [
    "# Q:59\n",
    "integrate(4-4*x**2 - (x**4 -1) ,(x, -1, 1))"
   ]
  },
  {
   "cell_type": "code",
   "execution_count": 25,
   "metadata": {},
   "outputs": [
    {
     "data": {
      "image/png": "[encoded data removed]",
      "text/latex": [
       "$$\\frac{56}{15}$$"
      ],
      "text/plain": [
       "56\n",
       "──\n",
       "15"
      ]
     },
     "execution_count": 25,
     "metadata": {},
     "output_type": "execute_result"
    }
   ],
   "source": [
    "# Q:61\n",
    "integrate(4-4*y**2 -(1-y**4) ,(y, -1, 1))"
   ]
  },
  {
   "cell_type": "code",
   "execution_count": 2,
   "metadata": {},
   "outputs": [],
   "source": [
    "# Ex 6.1"
   ]
  },
  {
   "cell_type": "code",
   "execution_count": 5,
   "metadata": {},
   "outputs": [
    {
     "data": {
      "image/png": "[encoded data removed]",
      "text/latex": [
       "$$\\frac{32}{5}$$"
      ],
      "text/plain": [
       "32/5"
      ]
     },
     "execution_count": 5,
     "metadata": {},
     "output_type": "execute_result"
    }
   ],
   "source": [
    "integrate(x**4, (x, 0, 2))"
   ]
  },
  {
   "cell_type": "code",
   "execution_count": 18,
   "metadata": {},
   "outputs": [
    {
     "data": {
      "image/png": "[encoded data removed]",
      "text/latex": [
       "$$\\frac{29}{30}$$"
      ],
      "text/plain": [
       "29\n",
       "──\n",
       "30"
      ]
     },
     "execution_count": 18,
     "metadata": {},
     "output_type": "execute_result"
    }
   ],
   "source": [
    "integrate((sqrt(x)+1)**2 - (x**2 + 1)**2 ,(x, 0, 1) )"
   ]
  },
  {
   "cell_type": "markdown",
   "metadata": {},
   "source": [
    "integrate(sqrt(3*y**2 ,(y, -1, 1))"
   ]
  },
  {
   "cell_type": "code",
   "execution_count": 28,
   "metadata": {},
   "outputs": [
    {
     "data": {
      "image/png": "[encoded data removed]",
      "text/latex": [
       "$$\\frac{6 \\pi}{5}$$"
      ],
      "text/plain": [
       "6⋅π\n",
       "───\n",
       " 5 "
      ]
     },
     "execution_count": 28,
     "metadata": {},
     "output_type": "execute_result"
    }
   ],
   "source": [
    "pi*integrate( (sqrt(3)*y**2 )**2 ,(y,-1,1))"
   ]
  },
  {
   "cell_type": "code",
   "execution_count": 30,
   "metadata": {},
   "outputs": [
    {
     "data": {
      "image/png": "[encoded data removed]",
      "text/latex": [
       "$$2$$"
      ],
      "text/plain": [
       "2"
      ]
     },
     "execution_count": 30,
     "metadata": {},
     "output_type": "execute_result"
    }
   ],
   "source": [
    "integrate( 2*sin(2*y),(y,0, pi/2))"
   ]
  },
  {
   "cell_type": "code",
   "execution_count": 31,
   "metadata": {},
   "outputs": [
    {
     "data": {
      "image/png": "[encoded data removed]",
      "text/latex": [
       "$$- \\frac{\\cos{\\left (2 x \\right )}}{2}$$"
      ],
      "text/plain": [
       "-cos(2⋅x) \n",
       "──────────\n",
       "    2     "
      ]
     },
     "execution_count": 31,
     "metadata": {},
     "output_type": "execute_result"
    }
   ],
   "source": [
    "integrate(sin(2*x),x)"
   ]
  },
  {
   "cell_type": "code",
   "execution_count": 33,
   "metadata": {},
   "outputs": [
    {
     "data": {
      "image/png": "[encoded data removed]",
      "text/latex": [
       "$$4 \\log{\\left (4 \\right )}$$"
      ],
      "text/plain": [
       "4⋅log(4)"
      ]
     },
     "execution_count": 33,
     "metadata": {},
     "output_type": "execute_result"
    }
   ],
   "source": [
    "integrate((2/(sqrt(y+1)))**2 ,(y,0,3))"
   ]
  },
  {
   "cell_type": "code",
   "execution_count": 34,
   "metadata": {},
   "outputs": [
    {
     "data": {
      "image/png": "[encoded data removed]",
      "text/latex": [
       "$$- \\pi + 2$$"
      ],
      "text/plain": [
       "-π + 2"
      ]
     },
     "execution_count": 34,
     "metadata": {},
     "output_type": "execute_result"
    }
   ],
   "source": [
    "integrate(cos(x)-1 ,(x,-pi/2, pi/2))"
   ]
  },
  {
   "cell_type": "code",
   "execution_count": 40,
   "metadata": {},
   "outputs": [
    {
     "data": {
      "image/png": "[encoded data removed]",
      "text/latex": [
       "$$-1 + \\frac{\\pi}{2}$$"
      ],
      "text/plain": [
       "     π\n",
       "-1 + ─\n",
       "     2"
      ]
     },
     "execution_count": 40,
     "metadata": {},
     "output_type": "execute_result"
    }
   ],
   "source": [
    "integrate( 1 - tan(y)**2,(y,0, pi/4))"
   ]
  },
  {
   "cell_type": "code",
   "execution_count": 41,
   "metadata": {},
   "outputs": [
    {
     "data": {
      "image/png": "[encoded data removed]",
      "text/latex": [
       "$$- x + \\frac{\\sin{\\left (x \\right )}}{\\cos{\\left (x \\right )}}$$"
      ],
      "text/plain": [
       "     sin(x)\n",
       "-x + ──────\n",
       "     cos(x)"
      ]
     },
     "execution_count": 41,
     "metadata": {},
     "output_type": "execute_result"
    }
   ],
   "source": [
    "integrate( tan(x)**2,x)"
   ]
  },
  {
   "cell_type": "code",
   "execution_count": 49,
   "metadata": {},
   "outputs": [
    {
     "data": {
      "image/png": "[encoded data removed]",
      "text/latex": [
       "$$\\frac{2}{3}$$"
      ],
      "text/plain": [
       "2/3"
      ]
     },
     "execution_count": 49,
     "metadata": {},
     "output_type": "execute_result"
    }
   ],
   "source": [
    "# Q:37\n",
    "integrate(1-(x)**2 ,(x,0,1))"
   ]
  },
  {
   "cell_type": "code",
   "execution_count": 51,
   "metadata": {},
   "outputs": [
    {
     "data": {
      "image/png": "[encoded data removed]",
      "text/latex": [
       "$$\\frac{117}{5}$$"
      ],
      "text/plain": [
       "117/5"
      ]
     },
     "execution_count": 51,
     "metadata": {},
     "output_type": "execute_result"
    }
   ],
   "source": [
    "integrate( (x+3)**2 - (x**2 + 1)**2,(x,-1, 2))"
   ]
  },
  {
   "cell_type": "code",
   "execution_count": 62,
   "metadata": {},
   "outputs": [
    {
     "data": {
      "image/png": "[encoded data removed]",
      "text/latex": [
       "$$\\left [ 1, \\quad \\operatorname{CRootOf} {\\left(x^{5} + x^{4} + x^{3} + x^{2} + x + 2, 0\\right)}, \\quad \\operatorname{CRootOf} {\\left(x^{5} + x^{4} + x^{3} + x^{2} + x + 2, 1\\right)}, \\quad \\operatorname{CRootOf} {\\left(x^{5} + x^{4} + x^{3} + x^{2} + x + 2, 2\\right)}, \\quad \\operatorname{CRootOf} {\\left(x^{5} + x^{4} + x^{3} + x^{2} + x + 2, 3\\right)}, \\quad \\operatorname{CRootOf} {\\left(x^{5} + x^{4} + x^{3} + x^{2} + x + 2, 4\\right)}\\right ]$$"
      ],
      "text/plain": [
       "⎡          ⎛ 5    4    3    2           ⎞         ⎛ 5    4    3    2          \n",
       "⎣1, CRootOf⎝x  + x  + x  + x  + x + 2, 0⎠, CRootOf⎝x  + x  + x  + x  + x + 2, \n",
       "\n",
       " ⎞         ⎛ 5    4    3    2           ⎞         ⎛ 5    4    3    2          \n",
       "1⎠, CRootOf⎝x  + x  + x  + x  + x + 2, 2⎠, CRootOf⎝x  + x  + x  + x  + x + 2, \n",
       "\n",
       " ⎞         ⎛ 5    4    3    2           ⎞⎤\n",
       "3⎠, CRootOf⎝x  + x  + x  + x  + x + 2, 4⎠⎦"
      ]
     },
     "execution_count": 62,
     "metadata": {},
     "output_type": "execute_result"
    }
   ],
   "source": [
    "solve(x + x**6 - 2 )"
   ]
  },
  {
   "cell_type": "code",
   "execution_count": null,
   "metadata": {},
   "outputs": [],
   "source": []
  }
 ],
 "metadata": {
  "kernelspec": {
   "display_name": "Python 3",
   "language": "python",
   "name": "python3"
  },
  "language_info": {
   "codemirror_mode": {
    "name": "ipython",
    "version": 3
   },
   "file_extension": ".py",
   "mimetype": "text/x-python",
   "name": "python",
   "nbconvert_exporter": "python",
   "pygments_lexer": "ipython3",
   "version": "3.6.3"
  }
 },
 "nbformat": 4,
 "nbformat_minor": 2
}
